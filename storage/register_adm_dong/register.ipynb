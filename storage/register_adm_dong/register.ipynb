{
 "cells": [
  {
   "cell_type": "markdown",
   "metadata": {},
   "source": [
    "# Database 설정\n",
    "MySQL 데이터베이스에서 다음 SQL문을 실행하여 데이터베이스를 설정합니다.\n",
    "\n",
    "```mysql\n",
    "CREATE DATABASE `project` DEFAULT CHARACTER SET utf8 COLLATE utf8_general_ci;\n",
    "\n",
    "USE project;\n",
    "CREATE TABLE `adm_dongs` (\n",
    "    `code` VARCHAR(7) NOT NULL,\n",
    "    `address` VARCHAR(256) NOT NULL,\n",
    "    PRIMARY KEY (`code`)\n",
    ") ENGINE=InnoDB;\n",
    "\n",
    "CREATE TABLE `adm_dong_borders` (\n",
    "    `code` VARCHAR(7) NOT NULL,\n",
    "    `vertex_index` INT NOT NULL,\n",
    "    `latitude` FLOAT NOT NULL,\n",
    "    `longtitude` FLOAT NOT NULL,\n",
    "    PRIMARY KEY (`code`, `vertex_index`),\n",
    "    FOREIGN KEY (`code`) REFERENCES `adm_dongs` (`code`)\n",
    ") ENGINE=InnoDB;\n",
    "```"
   ]
  },
  {
   "cell_type": "code",
   "execution_count": 1,
   "metadata": {},
   "outputs": [],
   "source": [
    "import pymysql\n",
    "import json"
   ]
  },
  {
   "cell_type": "code",
   "execution_count": 2,
   "metadata": {},
   "outputs": [],
   "source": [
    "f = open('borders.geojson')\n",
    "raw = f.read()\n",
    "f.close()\n",
    "data = json.loads(raw)"
   ]
  },
  {
   "cell_type": "code",
   "execution_count": 3,
   "metadata": {},
   "outputs": [],
   "source": [
    "conn = pymysql.connect(host='localhost', user='root', password='0712', db='project', charset='utf8')\n",
    "\n",
    "cursor = conn.cursor()\n",
    "\n",
    "for feature in data['features']:\n",
    "    properties = feature['properties']\n",
    "    code = properties['adm_cd']\n",
    "    cursor.execute(\"INSERT INTO `adm_dongs` (`code`, `code2`, `address`) VALUES (%s, %s, %s)\", (code, properties['adm_cd2'], properties['adm_nm']))\n",
    "    \n",
    "    i = 0\n",
    "    for vertex in feature['geometry']['coordinates'][0][0]:\n",
    "        cursor.execute(\"INSERT INTO `adm_dong_borders` (`code`, `vertex_index`, `latitude`, `longtitude`) VALUES (%s, %s, %s, %s)\", (code, i, vertex[1], vertex[0]))\n",
    "        i += 1\n",
    "\n",
    "conn.commit()\n",
    "conn.close()"
   ]
  }
 ],
 "metadata": {
  "kernelspec": {
   "display_name": "Python 3",
   "language": "python",
   "name": "python3"
  },
  "language_info": {
   "codemirror_mode": {
    "name": "ipython",
    "version": 3
   },
   "file_extension": ".py",
   "mimetype": "text/x-python",
   "name": "python",
   "nbconvert_exporter": "python",
   "pygments_lexer": "ipython3",
   "version": "3.5.2"
  }
 },
 "nbformat": 4,
 "nbformat_minor": 2
}
