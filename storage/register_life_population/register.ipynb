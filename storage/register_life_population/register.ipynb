{
 "cells": [
  {
   "cell_type": "code",
   "execution_count": 1,
   "metadata": {},
   "outputs": [],
   "source": [
    "import pymysql\n",
    "import csv"
   ]
  },
  {
   "cell_type": "code",
   "execution_count": 5,
   "metadata": {},
   "outputs": [],
   "source": [
    "conn = pymysql.connect(host='localhost', user='root', password='0712', db='project', charset='utf8')\n",
    "\n",
    "cursor = conn.cursor()\n",
    "\n",
    "f = open('pop.csv', 'r', encoding='utf-8')\n",
    "rdr = csv.reader(f)\n",
    "for line in rdr:\n",
    "    line[0] = line[0] + '00'\n",
    "    if line[0] == '1130559000':\n",
    "        line[0] = '1130559500'\n",
    "    elif line[0] == '1130560000':\n",
    "        line[0] = '1130560300'\n",
    "    elif line[0] == '1130560600':\n",
    "        line[0] = '1130560800'\n",
    "    elif line[0] == '1130561000':\n",
    "        line[0] = '1130561500'\n",
    "    elif line[0] == '1130562000':\n",
    "        line[0] = '1130562500'\n",
    "    elif line[0] == '1130563000':\n",
    "        line[0] = '1130563500'\n",
    "    cursor.execute(\"UPDATE `adm_dongs` SET `t2`=%s, `t2_raw`=%s WHERE `code2`=%s\", (line[3], line[2], line[0]))\n",
    "f.close()\n",
    "\n",
    "conn.commit()\n",
    "conn.close()"
   ]
  },
  {
   "cell_type": "code",
   "execution_count": null,
   "metadata": {},
   "outputs": [],
   "source": []
  }
 ],
 "metadata": {
  "kernelspec": {
   "display_name": "Python 3",
   "language": "python",
   "name": "python3"
  },
  "language_info": {
   "codemirror_mode": {
    "name": "ipython",
    "version": 3
   },
   "file_extension": ".py",
   "mimetype": "text/x-python",
   "name": "python",
   "nbconvert_exporter": "python",
   "pygments_lexer": "ipython3",
   "version": "3.5.2"
  }
 },
 "nbformat": 4,
 "nbformat_minor": 2
}
