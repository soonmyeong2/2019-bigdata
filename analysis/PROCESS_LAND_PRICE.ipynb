{
 "cells": [
  {
   "cell_type": "code",
   "execution_count": 2,
   "metadata": {},
   "outputs": [
    {
     "name": "stderr",
     "output_type": "stream",
     "text": [
      "C:\\Users\\kangt\\Anaconda3\\lib\\site-packages\\IPython\\core\\interactiveshell.py:3020: DtypeWarning: Columns (0) have mixed types. Specify dtype option on import or set low_memory=False.\n",
      "  interactivity=interactivity, compiler=compiler, result=result)\n"
     ]
    }
   ],
   "source": [
    "import pandas as pd\n",
    "errorList = []\n",
    "\n",
    "Year = 2014\n",
    "for i in range(5):\n",
    "    filename = \"jiga_{year}.csv\".format(year = Year)\n",
    "    \n",
    "    df = pd.read_csv(filename)\n",
    "    df = df.drop(\"표준지여부\", axis = 1)\n",
    "    df = df.drop(\"시군구코드\", axis = 1)\n",
    "    df = df.drop(\"년도\", axis = 1)\n",
    "    \n",
    "    tempDict = {}\n",
    "    \n",
    "    for i in range(len(df)):\n",
    "        #지번코드에 코드대신에 한글이 들어간 경우를 제외하기 위해 넣음\n",
    "        try:\n",
    "            cityCode = int(df.loc[i, \"지번코드\"])\n",
    "            price = int(df.loc[i, \"지가\"])\n",
    "        except ValueError:\n",
    "            #지번코드에 코드대신에 한글이 들어간경우의 인덱스를 저장 그냥 혹시 필요한가 싶어서\n",
    "            errorList.append(i)\n",
    "            continue\n",
    "        \n",
    "        #기준월이 2번 처리된 경우가 있어서 지가를 평균내기로함\n",
    "        if cityCode in tempDict:\n",
    "            tempDict[cityCode] = (tempDict[cityCode] + price)/2\n",
    "        else:\n",
    "            tempDict[cityCode] = price\n",
    "\n",
    "    errorList.append(-1)\n",
    "    \n",
    "    resultDf = pd.DataFrame()\n",
    "    for i in tempDict:\n",
    "        rowDf = pd.DataFrame({\"CityCode\": [i], \"Price\":[tempDict[i]], \"Year\":[Year]})\n",
    "        resultDf = resultDf.append(rowDf, ignore_index = True)\n",
    "\n",
    "    resultDf.to_csv(filename, index = False)\n",
    "    Year = Year + 1"
   ]
  },
  {
   "cell_type": "code",
   "execution_count": 86,
   "metadata": {},
   "outputs": [
    {
     "name": "stdout",
     "output_type": "stream",
     "text": [
      "1\n"
     ]
    }
   ],
   "source": [
    "print(len(errorList))"
   ]
  }
 ],
 "metadata": {
  "kernelspec": {
   "display_name": "Python 3",
   "language": "python",
   "name": "python3"
  },
  "language_info": {
   "codemirror_mode": {
    "name": "ipython",
    "version": 3
   },
   "file_extension": ".py",
   "mimetype": "text/x-python",
   "name": "python",
   "nbconvert_exporter": "python",
   "pygments_lexer": "ipython3",
   "version": "3.7.1"
  }
 },
 "nbformat": 4,
 "nbformat_minor": 2
}
