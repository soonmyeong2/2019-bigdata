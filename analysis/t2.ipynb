{
 "cells": [
  {
   "cell_type": "code",
   "execution_count": 1,
   "metadata": {},
   "outputs": [],
   "source": [
    "import findspark\n",
    "findspark.init()\n",
    "from pyspark import SparkContext, SparkConf\n",
    "from pyspark.sql import SQLContext\n",
    "import os\n",
    "import numpy as np\n",
    "import pyspark.sql.functions as f\n",
    "import subprocess\n",
    "from pyspark.sql.functions import min, max, col"
   ]
  },
  {
   "cell_type": "code",
   "execution_count": 2,
   "metadata": {},
   "outputs": [],
   "source": [
    "sc = SparkContext()\n",
    "sqlcontext = SQLContext(sc)"
   ]
  },
  {
   "cell_type": "code",
   "execution_count": 3,
   "metadata": {},
   "outputs": [
    {
     "name": "stdout",
     "output_type": "stream",
     "text": [
      "['/user/hadoop/data/population/PEOPLE_DONG_201701.csv', '/user/hadoop/data/population/PEOPLE_DONG_201702.csv', '/user/hadoop/data/population/PEOPLE_DONG_201703.csv', '/user/hadoop/data/population/PEOPLE_DONG_201704.csv', '/user/hadoop/data/population/PEOPLE_DONG_201705.csv', '/user/hadoop/data/population/PEOPLE_DONG_201706.csv', '/user/hadoop/data/population/PEOPLE_DONG_201707.csv', '/user/hadoop/data/population/PEOPLE_DONG_201708.csv', '/user/hadoop/data/population/PEOPLE_DONG_201709.csv', '/user/hadoop/data/population/PEOPLE_DONG_201710.csv', '/user/hadoop/data/population/PEOPLE_DONG_201711.csv', '/user/hadoop/data/population/PEOPLE_DONG_201712.csv', '/user/hadoop/data/population/PEOPLE_DONG_201801.csv', '/user/hadoop/data/population/PEOPLE_DONG_201802.csv', '/user/hadoop/data/population/PEOPLE_DONG_201803.csv', '/user/hadoop/data/population/PEOPLE_DONG_201804.csv', '/user/hadoop/data/population/PEOPLE_DONG_201805.csv', '/user/hadoop/data/population/PEOPLE_DONG_201806.csv', '/user/hadoop/data/population/PEOPLE_DONG_201807.csv', '/user/hadoop/data/population/PEOPLE_DONG_201808.csv', '/user/hadoop/data/population/PEOPLE_DONG_201809.csv', '/user/hadoop/data/population/PEOPLE_DONG_201810.csv', '/user/hadoop/data/population/PEOPLE_DONG_201811.csv', '/user/hadoop/data/population/PEOPLE_DONG_201812.csv', '/user/hadoop/data/population/PEOPLE_DONG_201901.csv', '/user/hadoop/data/population/PEOPLE_DONG_201902.csv', '/user/hadoop/data/population/PEOPLE_DONG_201903.csv', '/user/hadoop/data/population/PEOPLE_DONG_201904.csv']\n"
     ]
    }
   ],
   "source": [
    "dir_in = \"/user/hadoop/data/population\"\n",
    "args = \"hdfs dfs -ls \"+dir_in+\" | awk '{print $8}'\"\n",
    "proc = subprocess.Popen(args, stdout=subprocess.PIPE, stderr=subprocess.PIPE, shell=True)\n",
    "\n",
    "s_output, s_err = proc.communicate()\n",
    "all_dart_dirs = s_output.decode('utf-8').split()\n",
    "print(all_dart_dirs)"
   ]
  },
  {
   "cell_type": "code",
   "execution_count": null,
   "metadata": {},
   "outputs": [],
   "source": [
    "df = sqlcontext.read.format(\"com.databricks.spark.csv\")\\\n",
    "    .option(\"header\", \"true\").option(\"inferSchema\", \"true\").load(all_dart_dirs)"
   ]
  },
  {
   "cell_type": "code",
   "execution_count": null,
   "metadata": {},
   "outputs": [],
   "source": [
    "df.show()\n",
    "df.count()"
   ]
  },
  {
   "cell_type": "code",
   "execution_count": null,
   "metadata": {},
   "outputs": [],
   "source": [
    "total_df = df.withColumn('total', f.expr(' Korean+Foreigner'))"
   ]
  },
  {
   "cell_type": "code",
   "execution_count": null,
   "metadata": {},
   "outputs": [],
   "source": [
    "total_df.show()"
   ]
  },
  {
   "cell_type": "code",
   "execution_count": null,
   "metadata": {},
   "outputs": [],
   "source": [
    "total_df = total_df.groupBy(\"Dong\").agg(f.sum('total'))"
   ]
  },
  {
   "cell_type": "code",
   "execution_count": null,
   "metadata": {},
   "outputs": [],
   "source": [
    "total_df.show()\n",
    "print(total_df.count())"
   ]
  },
  {
   "cell_type": "code",
   "execution_count": null,
   "metadata": {},
   "outputs": [],
   "source": [
    "_min, _max = total_df.select(min(\"sum(total)\"), max(\"sum(total)\")).first()\n",
    "print(_min, _max)\n",
    "save_df = total_df.withColumn(\"scale\", (col(\"sum(total)\") - _min) / (_max - _min))\n",
    "save_df.show()"
   ]
  },
  {
   "cell_type": "code",
   "execution_count": null,
   "metadata": {},
   "outputs": [],
   "source": [
    "# = save_df.select([\"Dong\", \"scale\"])\n",
    "save_df.sort('Dong').write.csv(\"0611_t2\")"
   ]
  },
  {
   "cell_type": "code",
   "execution_count": null,
   "metadata": {},
   "outputs": [],
   "source": [
    "sc.textFile(\"hdfs://master:9000/user/hadoop/0611_t2/part*\").coalesce(1).saveAsTextFile(\"hdfs://master:9000/user/hadoop/0611_t2_\")"
   ]
  }
 ],
 "metadata": {
  "kernelspec": {
   "display_name": "Python 3",
   "language": "python",
   "name": "python3"
  },
  "language_info": {
   "codemirror_mode": {
    "name": "ipython",
    "version": 3
   },
   "file_extension": ".py",
   "mimetype": "text/x-python",
   "name": "python",
   "nbconvert_exporter": "python",
   "pygments_lexer": "ipython3",
   "version": "3.5.2"
  }
 },
 "nbformat": 4,
 "nbformat_minor": 2
}
