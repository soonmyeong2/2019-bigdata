{
 "cells": [
  {
   "cell_type": "code",
   "execution_count": 1,
   "metadata": {},
   "outputs": [],
   "source": [
    "from pyspark.sql import SQLContext\n",
    "sqlContext = SQLContext(sc)"
   ]
  },
  {
   "cell_type": "code",
   "execution_count": 3,
   "metadata": {},
   "outputs": [],
   "source": [
    "from pyspark.sql.types import IntegerType"
   ]
  },
  {
   "cell_type": "code",
   "execution_count": 12,
   "metadata": {},
   "outputs": [
    {
     "name": "stdout",
     "output_type": "stream",
     "text": [
      "+---+--------+---------------+---------+----------+\n",
      "|_c0|    Dong|TotalPopulation|  Chinese|NotChinese|\n",
      "+---+--------+---------------+---------+----------+\n",
      "|  0|11110515|       13087712|  4103015|   8974948|\n",
      "|  1|11110530|       35632256| 11148736|  24473864|\n",
      "|  2|11110540|       15055109|  4224611|  10820654|\n",
      "|  3|11110550|        5234450|  1060743|   4165353|\n",
      "|  4|11110560|        2897171|   489187|   2401249|\n",
      "|  5|11110570|         529710|   104003|    422920|\n",
      "|  6|11110580|        1194300|   340557|    846654|\n",
      "|  7|11110600|       11598836|  3484942|   8104366|\n",
      "|  8|11110615|      123701130| 33203371|  90488065|\n",
      "|  9|11110630|       19188805|  7957772|  11221359|\n",
      "| 10|11110640|        6435391|  2432265|   3993554|\n",
      "| 11|11110650|       12688271|  6454082|   6224392|\n",
      "| 12|11110670|       17788427|  8207322|   9571383|\n",
      "| 13|11110680|        3798949|  1926827|   1862249|\n",
      "| 14|11110690|         308503|   156548|    147603|\n",
      "| 15|11110700|        2980019|  1356400|   1614004|\n",
      "| 16|11110710|       21378696| 11900897|   9467994|\n",
      "| 17|11140520|      188421780| 99155776|  89256370|\n",
      "| 18|11140540|      127849508| 52578440|  75261304|\n",
      "| 19|11140550|      432843644|151541559| 281292375|\n",
      "+---+--------+---------------+---------+----------+\n",
      "only showing top 20 rows\n",
      "\n"
     ]
    }
   ],
   "source": [
    "df = sqlContext.read.csv('hdfs://master:9000/user/hadoop/taiwan_no1.csv', header=True)\n",
    "df = df.withColumn('NotChinese', df['NotChinese'].cast(IntegerType()))\n",
    "df.show()"
   ]
  },
  {
   "cell_type": "code",
   "execution_count": 13,
   "metadata": {},
   "outputs": [
    {
     "data": {
      "text/plain": [
       "281292375"
      ]
     },
     "execution_count": 13,
     "metadata": {},
     "output_type": "execute_result"
    }
   ],
   "source": [
    "maxValue = df.agg({'NotChinese': 'max'}).collect()[0][0]\n",
    "maxValue"
   ]
  },
  {
   "cell_type": "code",
   "execution_count": 15,
   "metadata": {},
   "outputs": [
    {
     "name": "stdout",
     "output_type": "stream",
     "text": [
      "+--------+----------+--------------------+\n",
      "|    Dong|NotChinese|                norm|\n",
      "+--------+----------+--------------------+\n",
      "|11110515|   8974948| 0.03190611903362116|\n",
      "|11110530|  24473864| 0.08700507434657623|\n",
      "|11110540|  10820654|0.038467640653252685|\n",
      "|11110550|   4165353|0.014807912941116871|\n",
      "|11110560|   2401249| 0.00853648805802148|\n",
      "|11110570|    422920|0.001503489029875...|\n",
      "|11110580|    846654|0.003009871845975...|\n",
      "|11110600|   8104366|0.028811182670699837|\n",
      "|11110615|  90488065| 0.32168687473309576|\n",
      "|11110630|  11221359| 0.03989215491532609|\n",
      "|11110640|   3993554|0.014197164071724305|\n",
      "|11110650|   6224392|  0.0221278376280196|\n",
      "|11110670|   9571383| 0.03402645734709304|\n",
      "|11110680|   1862249|0.006620332314375...|\n",
      "|11110690|    147603|5.247316071045296E-4|\n",
      "|11110700|   1614004|0.005737816391219279|\n",
      "|11110710|   9467994| 0.03365890739128638|\n",
      "|11140520|  89256370| 0.31730817445727066|\n",
      "|11140540|  75261304|  0.2675554358698845|\n",
      "|11140550| 281292375|                 1.0|\n",
      "+--------+----------+--------------------+\n",
      "only showing top 20 rows\n",
      "\n"
     ]
    }
   ],
   "source": [
    "df_norm = df.withColumn('norm', df['NotChinese'] / maxValue)\n",
    "df_norm = df_norm[['Dong', 'NotChinese', 'norm']]\n",
    "df_norm.show()"
   ]
  },
  {
   "cell_type": "code",
   "execution_count": 16,
   "metadata": {},
   "outputs": [],
   "source": [
    "df_norm.repartition(1).write.csv('hdfs://master:9000/user/hadoop/new_foreigner_norm')"
   ]
  }
 ],
 "metadata": {
  "kernelspec": {
   "display_name": "Python 3",
   "language": "python",
   "name": "python3"
  },
  "language_info": {
   "codemirror_mode": {
    "name": "ipython",
    "version": 3
   },
   "file_extension": ".py",
   "mimetype": "text/x-python",
   "name": "python",
   "nbconvert_exporter": "python",
   "pygments_lexer": "ipython3",
   "version": "3.5.2"
  }
 },
 "nbformat": 4,
 "nbformat_minor": 2
}
