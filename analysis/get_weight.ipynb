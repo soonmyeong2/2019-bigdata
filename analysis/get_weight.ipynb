{
 "cells": [
  {
   "cell_type": "code",
   "execution_count": 2,
   "metadata": {},
   "outputs": [],
   "source": [
    "import tensorflow as tf\n",
    "import numpy as np"
   ]
  },
  {
   "cell_type": "code",
   "execution_count": 17,
   "metadata": {},
   "outputs": [],
   "source": [
    "data = np.loadtxt(\"data.csv\", delimiter=\",\", dtype=np.float32)"
   ]
  },
  {
   "cell_type": "code",
   "execution_count": 18,
   "metadata": {},
   "outputs": [
    {
     "data": {
      "text/plain": [
       "array([[0.303847 , 0.226086 , 0.0870708, ..., 0.       , 0.       ,\n",
       "        0.       ],\n",
       "       [0.277618 , 0.0626644, 0.0929424, ..., 0.       , 0.       ,\n",
       "        0.       ],\n",
       "       [0.0870051, 0.0384676, 0.0148079, ..., 0.       , 0.       ,\n",
       "        0.       ]], dtype=float32)"
      ]
     },
     "execution_count": 18,
     "metadata": {},
     "output_type": "execute_result"
    }
   ],
   "source": [
    "x_data = data[:, 0:3].T\n",
    "x_data"
   ]
  },
  {
   "cell_type": "code",
   "execution_count": 19,
   "metadata": {},
   "outputs": [
    {
     "data": {
      "text/plain": [
       "array([0.0613811 , 0.        , 0.00363441, ..., 0.        , 0.        ,\n",
       "       0.        ], dtype=float32)"
      ]
     },
     "execution_count": 19,
     "metadata": {},
     "output_type": "execute_result"
    }
   ],
   "source": [
    "t3_data = data[:, 3]\n",
    "t3_data"
   ]
  },
  {
   "cell_type": "code",
   "execution_count": 20,
   "metadata": {},
   "outputs": [],
   "source": [
    "W = tf.Variable(tf.random_uniform([1, 3], -100.0, 100.0))\n",
    "b = tf.Variable(tf.zeros([1]))\n",
    "y = tf.matmul(W, x_data) + b"
   ]
  },
  {
   "cell_type": "code",
   "execution_count": 21,
   "metadata": {},
   "outputs": [],
   "source": [
    "loss = tf.reduce_mean(tf.square(y - t3_data))\n",
    "optimizer = tf.train.GradientDescentOptimizer(0.5)\n",
    "train = optimizer.minimize(loss)"
   ]
  },
  {
   "cell_type": "code",
   "execution_count": 22,
   "metadata": {},
   "outputs": [],
   "source": [
    "init = tf.global_variables_initializer()\n",
    "\n",
    "# 세션 시작\n",
    "sess = tf.Session()\n",
    "sess.run(init)"
   ]
  },
  {
   "cell_type": "code",
   "execution_count": 27,
   "metadata": {},
   "outputs": [
    {
     "name": "stdout",
     "output_type": "stream",
     "text": [
      "0 [[0.07768109 0.06681114 0.8734044 ]] [-5.8562033e-05]\n",
      "1000 [[0.07768109 0.06681114 0.8734044 ]] [-5.855971e-05]\n",
      "2000 [[0.07768109 0.06681114 0.8734044 ]] [-5.8560523e-05]\n",
      "3000 [[0.07768109 0.06681114 0.8734044 ]] [-5.856202e-05]\n",
      "4000 [[0.07768109 0.06681114 0.8734044 ]] [-5.8559726e-05]\n",
      "5000 [[0.07768109 0.06681114 0.8734044 ]] [-5.856051e-05]\n",
      "6000 [[0.07768109 0.06681114 0.8734044 ]] [-5.8562033e-05]\n",
      "7000 [[0.07768109 0.06681114 0.8734044 ]] [-5.855971e-05]\n",
      "8000 [[0.07768109 0.06681114 0.8734044 ]] [-5.8560523e-05]\n",
      "9000 [[0.07768109 0.06681114 0.8734044 ]] [-5.856202e-05]\n"
     ]
    }
   ],
   "source": [
    "for step in range(0, 10000):\n",
    "    sess.run(train)\n",
    "    if step % 1000 == 0:\n",
    "        print(step, sess.run(W), sess.run(b))"
   ]
  },
  {
   "cell_type": "code",
   "execution_count": null,
   "metadata": {},
   "outputs": [],
   "source": []
  }
 ],
 "metadata": {
  "kernelspec": {
   "display_name": "Python 3",
   "language": "python",
   "name": "python3"
  },
  "language_info": {
   "codemirror_mode": {
    "name": "ipython",
    "version": 3
   },
   "file_extension": ".py",
   "mimetype": "text/x-python",
   "name": "python",
   "nbconvert_exporter": "python",
   "pygments_lexer": "ipython3",
   "version": "3.5.2"
  }
 },
 "nbformat": 4,
 "nbformat_minor": 2
}
