{
 "cells": [
  {
   "cell_type": "code",
   "execution_count": 1,
   "metadata": {},
   "outputs": [],
   "source": [
    "import findspark\n",
    "findspark.init()\n",
    "from pyspark import SparkContext, SparkConf\n",
    "from pyspark.sql import SQLContext\n",
    "import os\n",
    "import numpy as np\n",
    "import pyspark.sql.functions as f\n",
    "import subprocess\n",
    "from pyspark.sql.functions import min, max, col\n",
    "from pyspark.sql.functions import *"
   ]
  },
  {
   "cell_type": "code",
   "execution_count": 2,
   "metadata": {},
   "outputs": [],
   "source": [
    "sc = SparkContext()\n",
    "sqlcontext = SQLContext(sc)"
   ]
  },
  {
   "cell_type": "code",
   "execution_count": 3,
   "metadata": {},
   "outputs": [],
   "source": [
    "df = sqlcontext.read.csv(\"/user/hadoop/land_value_adm/part-00000-a8a7d22a-f998-4608-8d4c-f9df0185c067-c000.csv\")"
   ]
  },
  {
   "cell_type": "code",
   "execution_count": 4,
   "metadata": {},
   "outputs": [],
   "source": [
    "t = df.withColumn('Dong', regexp_extract('_c2', '(^[0-9]{8})', 1))"
   ]
  },
  {
   "cell_type": "code",
   "execution_count": 5,
   "metadata": {
    "scrolled": true
   },
   "outputs": [
    {
     "name": "stdout",
     "output_type": "stream",
     "text": [
      "+-------------------+---------+----------+--------+\n",
      "|                _c0|      _c1|       _c2|    Dong|\n",
      "+-------------------+---------+----------+--------+\n",
      "|1111010200100010028|2084400.0|1111051500|11110515|\n",
      "|1111010500100210013|4045600.0|1111051500|11110515|\n",
      "|1111010600100250004|3296200.0|1111053000|11110530|\n",
      "|1111010800101470001|7340800.0|1111051500|11110515|\n",
      "|1111010900100230000|2660000.0|1111051500|11110515|\n",
      "|1111010900100380001|3249200.0|1111051500|11110515|\n",
      "|1111010900101660077|2928000.0|1111051500|11110515|\n",
      "|1111011000100780003|4866000.0|1111051500|11110515|\n",
      "|1111011100100190012|3014800.0|1111051500|11110515|\n",
      "|1111011100100470065|3179600.0|1111051500|11110515|\n",
      "|1111011100100470162|2553000.0|1111051500|11110515|\n",
      "|1111011100101100000|2991000.0|1111051500|11110515|\n",
      "|1111011200101190000|3204200.0|1111053000|11110530|\n",
      "|1111012000102390000|  4.017E7|1111053000|11110530|\n",
      "|1111012100100010165|3542400.0|1111053000|11110530|\n",
      "|1111012100101080007|8732400.0|1111053000|11110530|\n",
      "|1111012200100430002|  1.886E7|1111061500|11110615|\n",
      "|1111012500101100002| 1.2274E7|1111061500|11110615|\n",
      "|1111012600100420000|   3.63E7|1111061500|11110615|\n",
      "|1111012600100440000|   3.63E7|1111061500|11110615|\n",
      "+-------------------+---------+----------+--------+\n",
      "only showing top 20 rows\n",
      "\n"
     ]
    },
    {
     "data": {
      "text/plain": [
       "634691"
      ]
     },
     "execution_count": 5,
     "metadata": {},
     "output_type": "execute_result"
    }
   ],
   "source": [
    "t.show()\n",
    "t.count()"
   ]
  },
  {
   "cell_type": "code",
   "execution_count": 28,
   "metadata": {},
   "outputs": [
    {
     "data": {
      "image/png": "[encoded data removed]",
      "text/plain": [
       "<Figure size 432x288 with 1 Axes>"
      ]
     },
     "metadata": {
      "needs_background": "light"
     },
     "output_type": "display_data"
    }
   ],
   "source": [
    "import pandas as pd\n",
    "import numpy as np\n",
    "import matplotlib.pyplot as plt"
   ]
  },
  {
   "cell_type": "code",
   "execution_count": 29,
   "metadata": {},
   "outputs": [
    {
     "data": {
      "image/png": "[encoded data removed]",
      "text/plain": [
       "<Figure size 432x288 with 1 Axes>"
      ]
     },
     "metadata": {
      "needs_background": "light"
     },
     "output_type": "display_data"
    }
   ],
   "source": [
    "df =t.groupBy(\"Dong\").agg(f.count('Dong'))\n",
    "pd =df.sort('count(Dong)').toPandas()\n",
    "pd.plot()\n",
    "plt.show()"
   ]
  },
  {
   "cell_type": "code",
   "execution_count": 30,
   "metadata": {},
   "outputs": [],
   "source": [
    "dong_df = sqlcontext.read.option(\"header\",\"true\").csv(\"data/cur_dongCode.csv\")"
   ]
  },
  {
   "cell_type": "code",
   "execution_count": 6,
   "metadata": {},
   "outputs": [
    {
     "name": "stdout",
     "output_type": "stream",
     "text": [
      "+--------+--------+---+----+-----------+\n",
      "|통계청행정동코드|행자부행정동코드|시도명|시군구명|       행정동명|\n",
      "+--------+--------+---+----+-----------+\n",
      "| 1101053|11110530| 서울| 종로구|        사직동|\n",
      "| 1101054|11110540| 서울| 종로구|        삼청동|\n",
      "| 1101055|11110550| 서울| 종로구|        부암동|\n",
      "| 1101056|11110560| 서울| 종로구|        평창동|\n",
      "| 1101057|11110570| 서울| 종로구|        무악동|\n",
      "| 1101058|11110580| 서울| 종로구|        교남동|\n",
      "| 1101060|11110600| 서울| 종로구|        가회동|\n",
      "| 1101061|11110615| 서울| 종로구|종로1.2.3.4가동|\n",
      "| 1101063|11110630| 서울| 종로구|    종로5.6가동|\n",
      "| 1101064|11110640| 서울| 종로구|        이화동|\n",
      "| 1101067|11110670| 서울| 종로구|       창신1동|\n",
      "| 1101068|11110680| 서울| 종로구|       창신2동|\n",
      "| 1101069|11110690| 서울| 종로구|       창신3동|\n",
      "| 1101070|11110700| 서울| 종로구|       숭인1동|\n",
      "| 1101071|11110710| 서울| 종로구|       숭인2동|\n",
      "| 1101072|11110515| 서울| 종로구|      청운효자동|\n",
      "| 1101073|11110650| 서울| 종로구|        혜화동|\n",
      "| 1102052|11140520| 서울|  중구|        소공동|\n",
      "| 1102054|11140540| 서울|  중구|        회현동|\n",
      "| 1102055|11140550| 서울|  중구|         명동|\n",
      "+--------+--------+---+----+-----------+\n",
      "only showing top 20 rows\n",
      "\n"
     ]
    }
   ],
   "source": [
    "dong_df.show()"
   ]
  },
  {
   "cell_type": "code",
   "execution_count": 44,
   "metadata": {},
   "outputs": [
    {
     "name": "stdout",
     "output_type": "stream",
     "text": [
      "+-------------------+---------+----------+--------+--------+--------+---+----+-----------+\n",
      "|                _c0|      _c1|       _c2|    Dong|통계청행정동코드|행자부행정동코드|시도명|시군구명|       행정동명|\n",
      "+-------------------+---------+----------+--------+--------+--------+---+----+-----------+\n",
      "|1111010200100010028|2084400.0|1111051500|11110515| 1101072|11110515| 서울| 종로구|      청운효자동|\n",
      "|1111010500100210013|4045600.0|1111051500|11110515| 1101072|11110515| 서울| 종로구|      청운효자동|\n",
      "|1111010600100250004|3296200.0|1111053000|11110530| 1101053|11110530| 서울| 종로구|        사직동|\n",
      "|1111010800101470001|7340800.0|1111051500|11110515| 1101072|11110515| 서울| 종로구|      청운효자동|\n",
      "|1111010900100230000|2660000.0|1111051500|11110515| 1101072|11110515| 서울| 종로구|      청운효자동|\n",
      "|1111010900100380001|3249200.0|1111051500|11110515| 1101072|11110515| 서울| 종로구|      청운효자동|\n",
      "|1111010900101660077|2928000.0|1111051500|11110515| 1101072|11110515| 서울| 종로구|      청운효자동|\n",
      "|1111011000100780003|4866000.0|1111051500|11110515| 1101072|11110515| 서울| 종로구|      청운효자동|\n",
      "|1111011100100190012|3014800.0|1111051500|11110515| 1101072|11110515| 서울| 종로구|      청운효자동|\n",
      "|1111011100100470065|3179600.0|1111051500|11110515| 1101072|11110515| 서울| 종로구|      청운효자동|\n",
      "|1111011100100470162|2553000.0|1111051500|11110515| 1101072|11110515| 서울| 종로구|      청운효자동|\n",
      "|1111011100101100000|2991000.0|1111051500|11110515| 1101072|11110515| 서울| 종로구|      청운효자동|\n",
      "|1111011200101190000|3204200.0|1111053000|11110530| 1101053|11110530| 서울| 종로구|        사직동|\n",
      "|1111012000102390000|  4.017E7|1111053000|11110530| 1101053|11110530| 서울| 종로구|        사직동|\n",
      "|1111012100100010165|3542400.0|1111053000|11110530| 1101053|11110530| 서울| 종로구|        사직동|\n",
      "|1111012100101080007|8732400.0|1111053000|11110530| 1101053|11110530| 서울| 종로구|        사직동|\n",
      "|1111012200100430002|  1.886E7|1111061500|11110615| 1101061|11110615| 서울| 종로구|종로1.2.3.4가동|\n",
      "|1111012500101100002| 1.2274E7|1111061500|11110615| 1101061|11110615| 서울| 종로구|종로1.2.3.4가동|\n",
      "|1111012600100420000|   3.63E7|1111061500|11110615| 1101061|11110615| 서울| 종로구|종로1.2.3.4가동|\n",
      "|1111012600100440000|   3.63E7|1111061500|11110615| 1101061|11110615| 서울| 종로구|종로1.2.3.4가동|\n",
      "+-------------------+---------+----------+--------+--------+--------+---+----+-----------+\n",
      "only showing top 20 rows\n",
      "\n",
      "0.8862435817718506\n"
     ]
    }
   ],
   "source": [
    "import time\n",
    "start = time.time()\n",
    "joined = t.join(dong_df, t.Dong == dong_df.행자부행정동코드, how='left')\n",
    "joined.show()\n",
    "print(time.time()-start)"
   ]
  },
  {
   "cell_type": "code",
   "execution_count": 42,
   "metadata": {},
   "outputs": [
    {
     "name": "stdout",
     "output_type": "stream",
     "text": [
      "+-------------------+---------+----------+--------+--------+--------+---+----+-----------+\n",
      "|                _c0|      _c1|       _c2|    Dong|통계청행정동코드|행자부행정동코드|시도명|시군구명|       행정동명|\n",
      "+-------------------+---------+----------+--------+--------+--------+---+----+-----------+\n",
      "|1111010200100010028|2084400.0|1111051500|11110515| 1101072|11110515| 서울| 종로구|      청운효자동|\n",
      "|1111010500100210013|4045600.0|1111051500|11110515| 1101072|11110515| 서울| 종로구|      청운효자동|\n",
      "|1111010600100250004|3296200.0|1111053000|11110530| 1101053|11110530| 서울| 종로구|        사직동|\n",
      "|1111010800101470001|7340800.0|1111051500|11110515| 1101072|11110515| 서울| 종로구|      청운효자동|\n",
      "|1111010900100230000|2660000.0|1111051500|11110515| 1101072|11110515| 서울| 종로구|      청운효자동|\n",
      "|1111010900100380001|3249200.0|1111051500|11110515| 1101072|11110515| 서울| 종로구|      청운효자동|\n",
      "|1111010900101660077|2928000.0|1111051500|11110515| 1101072|11110515| 서울| 종로구|      청운효자동|\n",
      "|1111011000100780003|4866000.0|1111051500|11110515| 1101072|11110515| 서울| 종로구|      청운효자동|\n",
      "|1111011100100190012|3014800.0|1111051500|11110515| 1101072|11110515| 서울| 종로구|      청운효자동|\n",
      "|1111011100100470065|3179600.0|1111051500|11110515| 1101072|11110515| 서울| 종로구|      청운효자동|\n",
      "|1111011100100470162|2553000.0|1111051500|11110515| 1101072|11110515| 서울| 종로구|      청운효자동|\n",
      "|1111011100101100000|2991000.0|1111051500|11110515| 1101072|11110515| 서울| 종로구|      청운효자동|\n",
      "|1111011200101190000|3204200.0|1111053000|11110530| 1101053|11110530| 서울| 종로구|        사직동|\n",
      "|1111012000102390000|  4.017E7|1111053000|11110530| 1101053|11110530| 서울| 종로구|        사직동|\n",
      "|1111012100100010165|3542400.0|1111053000|11110530| 1101053|11110530| 서울| 종로구|        사직동|\n",
      "|1111012100101080007|8732400.0|1111053000|11110530| 1101053|11110530| 서울| 종로구|        사직동|\n",
      "|1111012200100430002|  1.886E7|1111061500|11110615| 1101061|11110615| 서울| 종로구|종로1.2.3.4가동|\n",
      "|1111012500101100002| 1.2274E7|1111061500|11110615| 1101061|11110615| 서울| 종로구|종로1.2.3.4가동|\n",
      "|1111012600100420000|   3.63E7|1111061500|11110615| 1101061|11110615| 서울| 종로구|종로1.2.3.4가동|\n",
      "|1111012600100440000|   3.63E7|1111061500|11110615| 1101061|11110615| 서울| 종로구|종로1.2.3.4가동|\n",
      "+-------------------+---------+----------+--------+--------+--------+---+----+-----------+\n",
      "only showing top 20 rows\n",
      "\n",
      "time : 0.1171412467956543\n"
     ]
    }
   ],
   "source": [
    "from pyspark.sql.functions import broadcast\n",
    "\n",
    "start = time.time()  # 시작 시간 저장\n",
    "\n",
    "test = t.join(broadcast(dong_df), t.Dong == dong_df.행자부행정동코드)\n",
    "test.show()\n",
    "\n",
    "print(\"time :\", time.time() - start) "
   ]
  },
  {
   "cell_type": "code",
   "execution_count": 34,
   "metadata": {
    "scrolled": true
   },
   "outputs": [
    {
     "name": "stdout",
     "output_type": "stream",
     "text": [
      "+-------------------+---------+----------+--------+--------+--------+---+----+-----------+\n",
      "|                _c0|      _c1|       _c2|    Dong|통계청행정동코드|행자부행정동코드|시도명|시군구명|       행정동명|\n",
      "+-------------------+---------+----------+--------+--------+--------+---+----+-----------+\n",
      "|1111010200100010028|2084400.0|1111051500|11110515| 1101072|11110515| 서울| 종로구|      청운효자동|\n",
      "|1111010500100210013|4045600.0|1111051500|11110515| 1101072|11110515| 서울| 종로구|      청운효자동|\n",
      "|1111010600100250004|3296200.0|1111053000|11110530| 1101053|11110530| 서울| 종로구|        사직동|\n",
      "|1111010800101470001|7340800.0|1111051500|11110515| 1101072|11110515| 서울| 종로구|      청운효자동|\n",
      "|1111010900100230000|2660000.0|1111051500|11110515| 1101072|11110515| 서울| 종로구|      청운효자동|\n",
      "|1111010900100380001|3249200.0|1111051500|11110515| 1101072|11110515| 서울| 종로구|      청운효자동|\n",
      "|1111010900101660077|2928000.0|1111051500|11110515| 1101072|11110515| 서울| 종로구|      청운효자동|\n",
      "|1111011000100780003|4866000.0|1111051500|11110515| 1101072|11110515| 서울| 종로구|      청운효자동|\n",
      "|1111011100100190012|3014800.0|1111051500|11110515| 1101072|11110515| 서울| 종로구|      청운효자동|\n",
      "|1111011100100470065|3179600.0|1111051500|11110515| 1101072|11110515| 서울| 종로구|      청운효자동|\n",
      "|1111011100100470162|2553000.0|1111051500|11110515| 1101072|11110515| 서울| 종로구|      청운효자동|\n",
      "|1111011100101100000|2991000.0|1111051500|11110515| 1101072|11110515| 서울| 종로구|      청운효자동|\n",
      "|1111011200101190000|3204200.0|1111053000|11110530| 1101053|11110530| 서울| 종로구|        사직동|\n",
      "|1111012000102390000|  4.017E7|1111053000|11110530| 1101053|11110530| 서울| 종로구|        사직동|\n",
      "|1111012100100010165|3542400.0|1111053000|11110530| 1101053|11110530| 서울| 종로구|        사직동|\n",
      "|1111012100101080007|8732400.0|1111053000|11110530| 1101053|11110530| 서울| 종로구|        사직동|\n",
      "|1111012200100430002|  1.886E7|1111061500|11110615| 1101061|11110615| 서울| 종로구|종로1.2.3.4가동|\n",
      "|1111012500101100002| 1.2274E7|1111061500|11110615| 1101061|11110615| 서울| 종로구|종로1.2.3.4가동|\n",
      "|1111012600100420000|   3.63E7|1111061500|11110615| 1101061|11110615| 서울| 종로구|종로1.2.3.4가동|\n",
      "|1111012600100440000|   3.63E7|1111061500|11110615| 1101061|11110615| 서울| 종로구|종로1.2.3.4가동|\n",
      "+-------------------+---------+----------+--------+--------+--------+---+----+-----------+\n",
      "only showing top 20 rows\n",
      "\n"
     ]
    }
   ],
   "source": [
    "#joined.filter((joined[\"행자부행정동코드\"] == \"\") |\\\n",
    "#              joined[\"행자부행정동코드\"].isNull() |\\\n",
    "#              isnan(joined[\"행자부행정동코드\"]))\\\n",
    "#              .select([\"Dong\", '행자부행정동코드']).dropDuplicates().show()\n",
    "#joined.count()"
   ]
  },
  {
   "cell_type": "code",
   "execution_count": 11,
   "metadata": {},
   "outputs": [
    {
     "name": "stdout",
     "output_type": "stream",
     "text": [
      "+-------------------+---------+----------+--------+--------+--------+---+----+-----------+---------+\n",
      "|                _c0|      _c1|       _c2|    Dong|통계청행정동코드|행자부행정동코드|시도명|시군구명|       행정동명|    value|\n",
      "+-------------------+---------+----------+--------+--------+--------+---+----+-----------+---------+\n",
      "|1111010200100010028|2084400.0|1111051500|11110515| 1101072|11110515| 서울| 종로구|      청운효자동|2084400.0|\n",
      "|1111010500100210013|4045600.0|1111051500|11110515| 1101072|11110515| 서울| 종로구|      청운효자동|4045600.0|\n",
      "|1111010600100250004|3296200.0|1111053000|11110530| 1101053|11110530| 서울| 종로구|        사직동|3296200.0|\n",
      "|1111010800101470001|7340800.0|1111051500|11110515| 1101072|11110515| 서울| 종로구|      청운효자동|7340800.0|\n",
      "|1111010900100230000|2660000.0|1111051500|11110515| 1101072|11110515| 서울| 종로구|      청운효자동|2660000.0|\n",
      "|1111010900100380001|3249200.0|1111051500|11110515| 1101072|11110515| 서울| 종로구|      청운효자동|3249200.0|\n",
      "|1111010900101660077|2928000.0|1111051500|11110515| 1101072|11110515| 서울| 종로구|      청운효자동|2928000.0|\n",
      "|1111011000100780003|4866000.0|1111051500|11110515| 1101072|11110515| 서울| 종로구|      청운효자동|4866000.0|\n",
      "|1111011100100190012|3014800.0|1111051500|11110515| 1101072|11110515| 서울| 종로구|      청운효자동|3014800.0|\n",
      "|1111011100100470065|3179600.0|1111051500|11110515| 1101072|11110515| 서울| 종로구|      청운효자동|3179600.0|\n",
      "|1111011100100470162|2553000.0|1111051500|11110515| 1101072|11110515| 서울| 종로구|      청운효자동|2553000.0|\n",
      "|1111011100101100000|2991000.0|1111051500|11110515| 1101072|11110515| 서울| 종로구|      청운효자동|2991000.0|\n",
      "|1111011200101190000|3204200.0|1111053000|11110530| 1101053|11110530| 서울| 종로구|        사직동|3204200.0|\n",
      "|1111012000102390000|  4.017E7|1111053000|11110530| 1101053|11110530| 서울| 종로구|        사직동|  4.017E7|\n",
      "|1111012100100010165|3542400.0|1111053000|11110530| 1101053|11110530| 서울| 종로구|        사직동|3542400.0|\n",
      "|1111012100101080007|8732400.0|1111053000|11110530| 1101053|11110530| 서울| 종로구|        사직동|8732400.0|\n",
      "|1111012200100430002|  1.886E7|1111061500|11110615| 1101061|11110615| 서울| 종로구|종로1.2.3.4가동|  1.886E7|\n",
      "|1111012500101100002| 1.2274E7|1111061500|11110615| 1101061|11110615| 서울| 종로구|종로1.2.3.4가동| 1.2274E7|\n",
      "|1111012600100420000|   3.63E7|1111061500|11110615| 1101061|11110615| 서울| 종로구|종로1.2.3.4가동|   3.63E7|\n",
      "|1111012600100440000|   3.63E7|1111061500|11110615| 1101061|11110615| 서울| 종로구|종로1.2.3.4가동|   3.63E7|\n",
      "+-------------------+---------+----------+--------+--------+--------+---+----+-----------+---------+\n",
      "only showing top 20 rows\n",
      "\n"
     ]
    }
   ],
   "source": [
    "from pyspark.sql.types import IntegerType, FloatType\n",
    "t= joined.withColumn(\"value\", joined[\"_c1\"].cast(FloatType()))\n",
    "t.show()"
   ]
  },
  {
   "cell_type": "code",
   "execution_count": 33,
   "metadata": {},
   "outputs": [
    {
     "name": "stdout",
     "output_type": "stream",
     "text": [
      "1450802.3914285714 21532591.5529132\n",
      "20081789.16148463\n",
      "+--------+--------------------+-------------------+\n",
      "|    Dong|          avg(value)|              scale|\n",
      "+--------+--------------------+-------------------+\n",
      "|11140550|  2.15325915529132E7|                1.0|\n",
      "|11650531|1.9186186934673365E7| 0.8831575912200063|\n",
      "|11140540|1.4493819616490891E7| 0.6494947795825808|\n",
      "|11140520|1.4297225000586854E7| 0.6397050833397236|\n",
      "|11710710|          1.372342E7| 0.6111316830329736|\n",
      "|11110615|1.2166911400230903E7| 0.5336232206518247|\n",
      "|11680600|1.1971577164383562E7| 0.5238962867478487|\n",
      "|11680545| 1.185588360030511E7| 0.5181351683958871|\n",
      "|11650520| 1.158859220739065E7| 0.5048250300030837|\n",
      "|11140605|1.1091927071349405E7|0.48009291415188193|\n",
      "|11710680|1.0285866666666666E7| 0.4399540401600813|\n",
      "|11680565|    9848102.65964567| 0.4181549861265595|\n",
      "|11680580|   9830026.968325792|0.41725488249662274|\n",
      "|11680610|   9828322.473975189| 0.4171700048825368|\n",
      "|11680640|   9545820.250391284|0.40310242249173456|\n",
      "|11650550|   9449186.788990825| 0.3982904278719626|\n",
      "|11170640|   9434756.976744186|0.39757187574841407|\n",
      "|11680510|   9305276.845151953|0.39112423651910844|\n",
      "|11170630|    9070897.54040404|0.37945300031285273|\n",
      "|11650580|   9064797.037037037| 0.3791492174517766|\n",
      "+--------+--------------------+-------------------+\n",
      "only showing top 20 rows\n",
      "\n"
     ]
    }
   ],
   "source": [
    "tt = t.groupBy(\"Dong\").agg(mean('value'))\n",
    "\n",
    "#tt.show()\n",
    "\n",
    "_min, _max = tt.select(min(\"avg(value)\"), max(\"avg(value)\")).first()\n",
    "print(_min, _max)\n",
    "div = float(_max) - float(_min)\n",
    "print(div)\n",
    "\n",
    "save_df =tt.withColumn(\"scale\", (  (  col(\"avg(value)\") - float(_min))  ) / div  )\n",
    "#ttt_df = save_df.selectExpr(\"avg(value) as t2_value\")\n",
    "save_df.sort('scale', ascending = False).show()"
   ]
  },
  {
   "cell_type": "code",
   "execution_count": 35,
   "metadata": {},
   "outputs": [],
   "source": [
    "save_df.sort('Dong').write.csv(\"0611_t1\") #.select(['Dong', 'scale']).sort('Dong').write.csv(\"t1_\")"
   ]
  },
  {
   "cell_type": "code",
   "execution_count": 36,
   "metadata": {},
   "outputs": [],
   "source": [
    "sc.textFile(\"hdfs://master:9000/user/hadoop/0611_t1/part*\").coalesce(1).saveAsTextFile(\"hdfs://master:9000/user/hadoop/0611_t1_\")"
   ]
  }
 ],
 "metadata": {
  "kernelspec": {
   "display_name": "Python 3",
   "language": "python",
   "name": "python3"
  },
  "language_info": {
   "codemirror_mode": {
    "name": "ipython",
    "version": 3
   },
   "file_extension": ".py",
   "mimetype": "text/x-python",
   "name": "python",
   "nbconvert_exporter": "python",
   "pygments_lexer": "ipython3",
   "version": "3.5.2"
  }
 },
 "nbformat": 4,
 "nbformat_minor": 2
}
